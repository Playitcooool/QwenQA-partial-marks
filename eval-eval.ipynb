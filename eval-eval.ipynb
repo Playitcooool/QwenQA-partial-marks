{
 "cells": [
  {
   "cell_type": "code",
   "execution_count": 113,
   "metadata": {},
   "outputs": [],
   "source": [
    "# Evaluating OpenQA Evaluation table1\n",
    "import pandas as pd"
   ]
  },
  {
   "cell_type": "code",
   "execution_count": 114,
   "metadata": {},
   "outputs": [],
   "source": [
    "df = pd.read_json('data/TQ-nli-qwen-plus-s42.json')\n",
    "# df = pd.read_json('data/NQ-nli-gpt35.json')"
   ]
  },
  {
   "cell_type": "code",
   "execution_count": 115,
   "metadata": {},
   "outputs": [
    {
     "data": {
      "text/html": [
       "<div>\n",
       "<style scoped>\n",
       "    .dataframe tbody tr th:only-of-type {\n",
       "        vertical-align: middle;\n",
       "    }\n",
       "\n",
       "    .dataframe tbody tr th {\n",
       "        vertical-align: top;\n",
       "    }\n",
       "\n",
       "    .dataframe thead th {\n",
       "        text-align: right;\n",
       "    }\n",
       "</style>\n",
       "<table border=\"1\" class=\"dataframe\">\n",
       "  <thead>\n",
       "    <tr style=\"text-align: right;\">\n",
       "      <th></th>\n",
       "      <th>qid</th>\n",
       "      <th>system</th>\n",
       "      <th>question</th>\n",
       "      <th>golden_answer</th>\n",
       "      <th>system_answer</th>\n",
       "      <th>golden_judge</th>\n",
       "      <th>golden_statement</th>\n",
       "      <th>system_statement</th>\n",
       "      <th>a2astar</th>\n",
       "      <th>astar2a</th>\n",
       "    </tr>\n",
       "  </thead>\n",
       "  <tbody>\n",
       "  </tbody>\n",
       "</table>\n",
       "</div>"
      ],
      "text/plain": [
       "Empty DataFrame\n",
       "Columns: [qid, system, question, golden_answer, system_answer, golden_judge, golden_statement, system_statement, a2astar, astar2a]\n",
       "Index: []"
      ]
     },
     "execution_count": 115,
     "metadata": {},
     "output_type": "execute_result"
    }
   ],
   "source": [
    "df[df.isna().any(axis=1)]"
   ]
  },
  {
   "cell_type": "code",
   "execution_count": 116,
   "metadata": {},
   "outputs": [],
   "source": [
    "df['asup'] = df['a2astar'].apply(lambda x: 'entailment' in x.lower()).astype(int)\n",
    "df['ainf'] = df['astar2a'].apply(lambda x: 'entailment' in x.lower()).astype(int)"
   ]
  },
  {
   "cell_type": "code",
   "execution_count": 117,
   "metadata": {},
   "outputs": [],
   "source": [
    "# Ainf | Asup\n",
    "df['system_judge'] = (df['asup'] | df['ainf']).astype(int)\n",
    "\n",
    "# Ainf & Asup\n",
    "#df['system_judge'] = (df['pred_a2astar'] & df['pred_astar2a']).astype(int)\n",
    "\n",
    "# Asup - Ainf\n",
    "#df['system_judge'] = (df['pred_a2astar'] & ~df['pred_astar2a']).astype(int)\n",
    "\n",
    "#df = df.drop(columns=['pred_a2astar', 'pred_astar2a'])\n",
    "#df.sort_values(by='qid', ascending=True, inplace=True)\n",
    "#df.to_json('data/NQ-nli-gpt35.json', orient='records', indent=2)"
   ]
  },
  {
   "cell_type": "code",
   "execution_count": 118,
   "metadata": {},
   "outputs": [],
   "source": [
    "def fscore(tp,fp,fn):\n",
    "    prec = tp / (tp + fp)\n",
    "    rec = tp / (tp + fn)\n",
    "    f1 = 2 * prec * rec / (prec + rec)\n",
    "    return prec, rec, f1\n",
    "\n",
    "def eval_df(df):\n",
    "    tp = df[(df['golden_judge'] == 1) & (df['system_judge'] == 1)].shape[0]\n",
    "    fp = df[(df['golden_judge'] == 0) & (df['system_judge'] == 1)].shape[0]\n",
    "    tn = df[(df['golden_judge'] == 0) & (df['system_judge'] == 0)].shape[0]\n",
    "    fn = df[(df['golden_judge'] == 1) & (df['system_judge'] == 0)].shape[0]\n",
    "\n",
    "    pos_prec, pos_rec, pos_f1 = fscore(tp, fp, fn)\n",
    "    neg_prec, neg_rec, neg_f1 = fscore(tn, fn, fp)\n",
    "\n",
    "    acc = (tp + tn) / (tp + tn + fp + fn)\n",
    "    macro_f1 = (pos_f1 + neg_f1) / 2\n",
    "    print(f'Acc: {round(acc, 3)}, Pos F1: {round(pos_f1, 3)}')\n",
    "    print(f'Pos Prec: {round(pos_prec, 3)}, Pos Rec: {round(pos_rec, 3)}')"
   ]
  },
  {
   "cell_type": "code",
   "execution_count": 119,
   "metadata": {},
   "outputs": [
    {
     "name": "stdout",
     "output_type": "stream",
     "text": [
      "fid\n",
      "Acc: 0.966, Pos F1: 0.979\n",
      "Pos Prec: 0.97, Pos Rec: 0.989\n",
      "gpt35\n",
      "Acc: 0.954, Pos F1: 0.97\n",
      "Pos Prec: 0.977, Pos Rec: 0.964\n",
      "chatgpt\n",
      "Acc: 0.957, Pos F1: 0.975\n",
      "Pos Prec: 0.977, Pos Rec: 0.972\n",
      "gpt4\n",
      "Acc: 0.966, Pos F1: 0.981\n",
      "Pos Prec: 0.983, Pos Rec: 0.979\n",
      "newbing\n",
      "Acc: 0.943, Pos F1: 0.968\n",
      "Pos Prec: 0.986, Pos Rec: 0.95\n"
     ]
    }
   ],
   "source": [
    "systems = ['fid', 'gpt35', 'chatgpt', 'gpt4', 'newbing']\n",
    "for sys in systems:\n",
    "    subdf = df[df['system'] == sys]\n",
    "    print(sys)\n",
    "    eval_df(subdf)"
   ]
  },
  {
   "cell_type": "code",
   "execution_count": 120,
   "metadata": {},
   "outputs": [
    {
     "name": "stdout",
     "output_type": "stream",
     "text": [
      "fid\n",
      "0.8307533539731682\n",
      "gpt35\n",
      "0.7739938080495357\n",
      "chatgpt\n",
      "0.8405572755417957\n",
      "gpt4\n",
      "0.8988648090815273\n",
      "newbing\n",
      "0.8642930856553147\n"
     ]
    }
   ],
   "source": [
    "# count...\n",
    "for system in systems:\n",
    "    print(system)\n",
    "    #print(df[df['system'] == system]['golden_judge'].value_counts())\n",
    "\n",
    "    print(df[df['system'] == system]['system_judge'].value_counts()[1] / df[df['system'] == system].shape[0])"
   ]
  },
  {
   "cell_type": "code",
   "execution_count": null,
   "metadata": {},
   "outputs": [],
   "source": []
  }
 ],
 "metadata": {
  "kernelspec": {
   "display_name": "open_manus",
   "language": "python",
   "name": "python3"
  },
  "language_info": {
   "codemirror_mode": {
    "name": "ipython",
    "version": 3
   },
   "file_extension": ".py",
   "mimetype": "text/x-python",
   "name": "python",
   "nbconvert_exporter": "python",
   "pygments_lexer": "ipython3",
   "version": "3.12.11"
  }
 },
 "nbformat": 4,
 "nbformat_minor": 2
}
