{
 "cells": [
  {
   "cell_type": "code",
   "execution_count": 195,
   "metadata": {},
   "outputs": [],
   "source": [
    "import json\n",
    "import numpy as np\n",
    "from sklearn import metrics\n",
    "import matplotlib.pyplot as plt\n",
    "import pandas as pd\n",
    "import seaborn as sns\n",
    "import re\n",
    "from scipy.stats import mannwhitneyu, brunnermunzel"
   ]
  },
  {
   "cell_type": "code",
   "execution_count": 204,
   "metadata": {},
   "outputs": [
    {
     "name": "stdout",
     "output_type": "stream",
     "text": [
      "15045 15045 15045\n",
      "Precision: 0.910, Recall: 0.957, F1: 0.9332\n",
      "15045\n"
     ]
    }
   ],
   "source": [
    "data = []\n",
    "data1 = []\n",
    "data2 = []\n",
    "with open('data/cot-score-qwen.jsonl') as f:\n",
    "    for line in f:\n",
    "        data2.append(json.loads(line))\n",
    "with open('data/cot-qwen.jsonl') as f:\n",
    "    for line in f:\n",
    "        data1.append(json.loads(line))\n",
    "with open('data/NQ-baselinescore-qwen-plus.jsonl') as f:\n",
    "    for line in f:\n",
    "        data.append(json.loads(line))\n",
    "    #for line in f:\n",
    "    #    data.append(json.loads(line))\n",
    "# Ainf - Asup\n",
    "#data = [x for x in data if x['ainf'] == 1 or x['asup'] == 1]\n",
    "# 用 (qid, system) 作为主键\n",
    "dict1 = {(x['qid'], x['system']): x for x in data1}\n",
    "dict2 = {(x['qid'], x['system']): x for x in data2}\n",
    "dict3 = {(x['qid'], x['system']): x for x in data}\n",
    "\n",
    "# 获取 data 的主键列表（顺序对齐）\n",
    "target_keys = [(x['qid'], x['system']) for x in data]\n",
    "\n",
    "# 按照 data 的顺序对齐\n",
    "aligned_data1 = [dict1[k] for k in target_keys if k in dict1]\n",
    "aligned_data2 = [dict2[k] for k in target_keys if k in dict2]\n",
    "aligned_data = [x for x in data if (x['qid'], x['system']) in dict1 and (x['qid'], x['system']) in dict2]\n",
    "print(len(aligned_data1), len(aligned_data2), len(aligned_data))\n",
    "from sklearn.metrics import f1_score, precision_score, recall_score\n",
    "\n",
    "y_true = [x['golden_judge'] for x in data]\n",
    "y_pred = [x['system_judge'] for x in data]\n",
    "\n",
    "prec = precision_score(y_true, y_pred)\n",
    "rec = recall_score(y_true, y_pred)\n",
    "f1 = f1_score(y_true, y_pred)\n",
    "print(f'Precision: {prec:.3f}, Recall: {rec:.3f}, F1: {f1:.4f}')\n",
    "print(len(y_true))"
   ]
  },
  {
   "cell_type": "code",
   "execution_count": 197,
   "metadata": {},
   "outputs": [],
   "source": [
    "def score_chain_info_assum(x):\n",
    "    score = 100000\n",
    "    if x['ainf'] == 0 and x['asup'] == 0:\n",
    "        return -score\n",
    "    if not x['chains']:\n",
    "        return score\n",
    "    for chain in x['chains']:\n",
    "        steps = chain.split('\\n')\n",
    "        chain_score = 10 * len(steps)\n",
    "        for s in steps:\n",
    "            if '[[info]]' in s.lower():\n",
    "                chain_score += 3\n",
    "            if '[[assumption]]' in s.lower() or '(assumption)' in s.lower():\n",
    "                chain_score += 5\n",
    "        if chain_score < score:\n",
    "            score = chain_score\n",
    "        #score += chain_score\n",
    "    score = -score\n",
    "    return score\n",
    "\n",
    "\n",
    "def score_info_assum(x):\n",
    "    score = 100000\n",
    "    if x['ainf'] == 0 and x['asup'] == 0:\n",
    "        return -score\n",
    "    if not x['chains']:\n",
    "        return score\n",
    "    for chain in x['chains']:\n",
    "        steps = chain.split('\\n')\n",
    "        chain_score = 0\n",
    "        for s in steps:\n",
    "            if '[[info]]' in s.lower():\n",
    "                chain_score += 3\n",
    "            if '[[assumption]]' in s.lower() or '(assumption)' in s.lower():\n",
    "                chain_score += 5\n",
    "        if chain_score < score:\n",
    "            score = chain_score\n",
    "        #score += chain_score\n",
    "    score = -score\n",
    "    return score\n",
    "\n",
    "\n",
    "def score_chain_only(x):\n",
    "    score = 100000\n",
    "    if x['ainf'] == 0 and x['asup'] == 0:\n",
    "        return -score\n",
    "    if not x['chains']:\n",
    "        return score\n",
    "    for chain in x['chains']:\n",
    "        steps = chain.split('\\n')\n",
    "        chain_score = 10 * len(steps)\n",
    "        if chain_score < score:\n",
    "            score = chain_score\n",
    "        #score += chain_score\n",
    "    score = -score\n",
    "    return score\n",
    "\n",
    "def score_gpt35(x):\n",
    "    if x['asup'] == 0 and x['ainf'] == 0:\n",
    "        return -6\n",
    "    if not x['scores']:\n",
    "        return 0\n",
    "    for score in x['scores']:\n",
    "        # use regex to find integers in the string\n",
    "        score = re.findall(r'\\d+', score)\n",
    "        if score:\n",
    "            score = int(score[0])\n",
    "            if score < 1 or score > 5:\n",
    "                return -3\n",
    "            return -score\n",
    "    return -3\n",
    "\n",
    "def score_baseline(x):\n",
    "    if x['asup'] == 0 and x['ainf'] == 0:\n",
    "        return -6\n",
    "    if str(x['baseline_score']) == \"-1\":\n",
    "        return 0\n",
    "    text = x['baseline_score']\n",
    "    for sc in range(1, 6):\n",
    "        if str(sc) in text:\n",
    "            return -sc\n",
    "    else:\n",
    "        return -3\n",
    "\n",
    "def compute_f1(y_true, y_pred):\n",
    "    from sklearn.metrics import precision_score, recall_score, f1_score\n",
    "    prec = precision_score(y_true, y_pred)\n",
    "    rec = recall_score(y_true, y_pred)\n",
    "    f1 = f1_score(y_true, y_pred)\n",
    "    print(f'Precision: {prec:.3f}, Recall: {rec:.3f}, F1: {f1:.3f}')\n",
    "    return prec, rec, f1"
   ]
  },
  {
   "cell_type": "code",
   "execution_count": 198,
   "metadata": {},
   "outputs": [
    {
     "name": "stdout",
     "output_type": "stream",
     "text": [
      "0.9036507238998566\n",
      "0.9004404682738448\n",
      "0.9088000966531964\n",
      "0.9101474964859929\n",
      "0.8762897144005161\n"
     ]
    }
   ],
   "source": [
    "\n",
    "y_scores_1 = [score_chain_info_assum(x) for x in aligned_data1]\n",
    "y_scores_2 = [score_chain_only(x) for x in aligned_data1]\n",
    "y_scores_3 = [score_info_assum(x) for x in aligned_data1]\n",
    "y_scores_4 = [score_gpt35(x) for x in aligned_data2]\n",
    "y_scores_5 = [score_baseline(x) for x in aligned_data]\n",
    "\n",
    "print(metrics.roc_auc_score(y_true, y_scores_1))\n",
    "print(metrics.roc_auc_score(y_true, y_scores_2))\n",
    "print(metrics.roc_auc_score(y_true, y_scores_3))\n",
    "print(metrics.roc_auc_score(y_true, y_scores_4))\n",
    "print(metrics.roc_auc_score(y_true, y_scores_5))\n",
    "\n",
    "\n",
    "#disp = metrics.RocCurveDisplay.from_predictions(y_true, y_scores_1, name='CIA')\n",
    "#disp = metrics.RocCurveDisplay.from_predictions(y_true, y_scores_2, name='C')\n",
    "#disp = metrics.RocCurveDisplay.from_predictions(y_true, y_scores_3, name='gpt35')\n",
    "#disp = metrics.RocCurveDisplay.from_predictions(y_true, y_scores_4, name='baseline')"
   ]
  },
  {
   "cell_type": "markdown",
   "metadata": {},
   "source": []
  },
  {
   "cell_type": "code",
   "execution_count": null,
   "metadata": {},
   "outputs": [],
   "source": []
  },
  {
   "cell_type": "code",
   "execution_count": 199,
   "metadata": {},
   "outputs": [],
   "source": [
    "y_scores = y_scores_5\n",
    "plot_df = []\n",
    "for y_score, y_t in zip(y_scores, y_true):\n",
    "    plot_df.append({'score': y_score, 'label': f'y_true={y_t}'})\n",
    "plot_df = pd.DataFrame(plot_df)"
   ]
  },
  {
   "cell_type": "code",
   "execution_count": 200,
   "metadata": {},
   "outputs": [
    {
     "data": {
      "text/plain": [
       "<Axes: xlabel='score', ylabel='label'>"
      ]
     },
     "execution_count": 200,
     "metadata": {},
     "output_type": "execute_result"
    },
    {
     "data": {
      "image/png": "[encoded data removed]",
      "text/plain": [
       "<Figure size 640x480 with 1 Axes>"
      ]
     },
     "metadata": {},
     "output_type": "display_data"
    }
   ],
   "source": [
    "sns.stripplot(plot_df, x='score', y='label', jitter=0.2)"
   ]
  },
  {
   "cell_type": "code",
   "execution_count": 201,
   "metadata": {},
   "outputs": [
    {
     "name": "stdout",
     "output_type": "stream",
     "text": [
      "MannwhitneyuResult(statistic=np.float64(38941698.0), pvalue=np.float64(0.0))\n",
      "BrunnerMunzelResult(statistic=np.float64(-113.15339938119712), pvalue=np.float64(0.0))\n"
     ]
    }
   ],
   "source": [
    "y_true_scores = plot_df[plot_df['label'] == 'y_true=1']['score']\n",
    "y_false_scores = plot_df[plot_df['label'] == 'y_true=0']['score']\n",
    "print(mannwhitneyu(y_true_scores, y_false_scores, alternative='greater'))\n",
    "print(brunnermunzel(y_true_scores, y_false_scores, alternative='greater'))"
   ]
  }
 ],
 "metadata": {
  "kernelspec": {
   "display_name": "open_manus",
   "language": "python",
   "name": "python3"
  },
  "language_info": {
   "codemirror_mode": {
    "name": "ipython",
    "version": 3
   },
   "file_extension": ".py",
   "mimetype": "text/x-python",
   "name": "python",
   "nbconvert_exporter": "python",
   "pygments_lexer": "ipython3",
   "version": "3.12.11"
  }
 },
 "nbformat": 4,
 "nbformat_minor": 2
}
